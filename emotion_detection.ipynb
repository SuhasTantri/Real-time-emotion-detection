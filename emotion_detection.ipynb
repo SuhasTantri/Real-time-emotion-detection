{
 "cells": [
  {
   "cell_type": "code",
   "execution_count": 8,
   "id": "d9b3042d",
   "metadata": {},
   "outputs": [],
   "source": [
    "# importing the necessary libraries\n",
    "import tensorflow as tf\n",
    "import cv2\n",
    "import os\n",
    "import numpy as np"
   ]
  },
  {
   "cell_type": "code",
   "execution_count": 9,
   "id": "49f74535",
   "metadata": {},
   "outputs": [],
   "source": [
    "# Defining the classes\n",
    "classes = ['angry','fear','happy','neutral']"
   ]
  },
  {
   "cell_type": "markdown",
   "id": "d26b67c2",
   "metadata": {},
   "source": [
    "# Read images and convert them to array"
   ]
  },
  {
   "cell_type": "code",
   "execution_count": 10,
   "id": "1ee722bb",
   "metadata": {},
   "outputs": [],
   "source": [
    "# Read images and convert them to array\n",
    "frame = cv2.imread(r'neutral image.jfif')"
   ]
  },
  {
   "cell_type": "code",
   "execution_count": 11,
   "id": "4c0591f0",
   "metadata": {},
   "outputs": [],
   "source": [
    "# Loading the image\n",
    "new_model= tf.keras.models.load_model(r'emotion detection model.h5')"
   ]
  },
  {
   "cell_type": "code",
   "execution_count": 12,
   "id": "3aa84cbb",
   "metadata": {},
   "outputs": [],
   "source": [
    "facecascade = cv2.CascadeClassifier(cv2.data.haarcascades+'haarcascade_frontalface_default.xml')"
   ]
  },
  {
   "cell_type": "markdown",
   "id": "6430b3ec",
   "metadata": {},
   "source": [
    "# Realtime Emotion Recognition"
   ]
  },
  {
   "cell_type": "code",
   "execution_count": 22,
   "id": "b510deb3",
   "metadata": {},
   "outputs": [],
   "source": [
    "font = cv2.FONT_HERSHEY_TRIPLEX # Defining the font\n",
    "\n",
    "facecascade = cv2.CascadeClassifier(cv2.data.haarcascades+'haarcascade_frontalface_default.xml')\n",
    "def face_detection(img):\n",
    "    grey = cv2.cvtColor(img,cv2.COLOR_BGR2RGB)\n",
    "    faces = facecascade.detectMultiScale(grey,1.3,1) # Region of interest of detected image\n",
    "        \n",
    "    \n",
    "    for (x,y,w,h) in faces:\n",
    "        x = x - 5\n",
    "        y = y + 7\n",
    "        w = w + 10\n",
    "        h = h + 2\n",
    "        roi_grey =  grey[y:y+h,x:x+w] # Cropping gray color image\n",
    "        roi_color = img[y:y+h,x:x+w]\n",
    "        cv2.rectangle(img,(x,y),(x+w,y+h),(0,255,0),2) #Draw rectangle over the face\n",
    "        faces = facecascade.detectMultiScale(roi_grey)\n",
    "        if len(faces)==():\n",
    "            raise IOError('Face not detected')\n",
    "            \n",
    "        else:\n",
    "            for (ex,ey,ew,eh) in faces:\n",
    "                face_roi = roi_color[ey:ey+eh,ex:ex+ew]\n",
    "                \n",
    "        final_image = cv2.resize(roi_color,(48,48)) # Image is resized to (48,48)\n",
    "        final_image = np.expand_dims(final_image,axis=0) # array is expanded by inserting axis\n",
    "        final_image = final_image/255.0 # Scaling of the image\n",
    "    \n",
    "        predictions=new_model.predict(final_image) # Making predictions\n",
    "        label = classes[predictions.argmax()] # Finding label of the class which has highest probability\n",
    "        cv2.putText(frame,label, (50,60),font,2, (255,200,0),2)\n",
    "    return img\n",
    "\n",
    "cap = cv2.VideoCapture(0) # capturing the video\n",
    "if not cap.isOpened():\n",
    "    cap = cv2.VideoCapture(1)\n",
    "if not cap.isOpened():\n",
    "    raise IOError('Cannot open webcam')\n",
    "while True:\n",
    "    ret,frame = cap.read() \n",
    "    cv2.imshow('Face emotion recognition',face_detection(frame)) # Displaying the result\n",
    "    if cv2.waitKey(20)& 0xff == ord('q'): # Press 'q' to exit \n",
    "        break\n",
    "        \n",
    "cap.release()\n",
    "cv2.destroyAllWindows()"
   ]
  },
  {
   "cell_type": "code",
   "execution_count": null,
   "id": "65d12ac5",
   "metadata": {},
   "outputs": [],
   "source": []
  }
 ],
 "metadata": {
  "kernelspec": {
   "display_name": "Python 3",
   "language": "python",
   "name": "python3"
  },
  "language_info": {
   "codemirror_mode": {
    "name": "ipython",
    "version": 3
   },
   "file_extension": ".py",
   "mimetype": "text/x-python",
   "name": "python",
   "nbconvert_exporter": "python",
   "pygments_lexer": "ipython3",
   "version": "3.8.12"
  }
 },
 "nbformat": 4,
 "nbformat_minor": 5
}
